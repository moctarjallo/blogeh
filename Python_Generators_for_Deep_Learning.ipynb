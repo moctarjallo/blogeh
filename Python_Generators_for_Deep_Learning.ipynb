{
  "nbformat": 4,
  "nbformat_minor": 0,
  "metadata": {
    "colab": {
      "name": "Python Generators for Deep Learning.ipynb",
      "private_outputs": true,
      "provenance": [],
      "toc_visible": true,
      "authorship_tag": "ABX9TyPMM1Pm21MtS4Lj/FyHkLoy",
      "include_colab_link": true
    },
    "kernelspec": {
      "name": "python3",
      "display_name": "Python 3"
    },
    "language_info": {
      "name": "python"
    }
  },
  "cells": [
    {
      "cell_type": "markdown",
      "metadata": {
        "id": "view-in-github",
        "colab_type": "text"
      },
      "source": [
        "<a href=\"https://colab.research.google.com/github/moctarjallo/blogeh/blob/main/Python_Generators_for_Deep_Learning.ipynb\" target=\"_parent\"><img src=\"https://colab.research.google.com/assets/colab-badge.svg\" alt=\"Open In Colab\"/></a>"
      ]
    },
    {
      "cell_type": "markdown",
      "metadata": {
        "id": "WB8atvkyao-i"
      },
      "source": [
        "In this tutorial we will see what are `python generators` and what important problem do they solve."
      ]
    },
    {
      "cell_type": "code",
      "metadata": {
        "id": "t52e_JpF9UlP"
      },
      "source": [
        "# usefull imports\n",
        "import tensorflow as tf\n",
        "import numpy as np"
      ],
      "execution_count": null,
      "outputs": []
    },
    {
      "cell_type": "markdown",
      "metadata": {
        "id": "iQPSrZ8E9dLY"
      },
      "source": [
        "# Python Generators"
      ]
    },
    {
      "cell_type": "markdown",
      "metadata": {
        "id": "TOwFpMk0-sMX"
      },
      "source": [
        "## The Problem\n"
      ]
    },
    {
      "cell_type": "markdown",
      "metadata": {
        "id": "WwbVggkJ-wko"
      },
      "source": [
        "Let's start with an example: the `fibonacci function`\n"
      ]
    },
    {
      "cell_type": "code",
      "metadata": {
        "id": "6TMP6_65-0if"
      },
      "source": [
        "def fib(n):\n",
        "    if n == 0:\n",
        "        return 0\n",
        "    elif n == 1:\n",
        "        return 1\n",
        "    else:\n",
        "        return fib(n-1) + fib(n-2)\n",
        "fib(6)"
      ],
      "execution_count": null,
      "outputs": []
    },
    {
      "cell_type": "markdown",
      "metadata": {
        "id": "yqx0GrQCPVQ2"
      },
      "source": [
        "This function returns the `nth fibonnacci` number."
      ]
    },
    {
      "cell_type": "code",
      "metadata": {
        "id": "wYz7hDTf-8X2"
      },
      "source": [
        "# Now let's get the fibonacci sequence:\n",
        "def fib_sequence(n):\n",
        "    seq = []\n",
        "    for i in range(n):\n",
        "        seq.append(fib(i))\n",
        "    return seq"
      ],
      "execution_count": null,
      "outputs": []
    },
    {
      "cell_type": "markdown",
      "metadata": {
        "id": "kESJ9ndc-_Ek"
      },
      "source": [
        "Use this code to print the first `n` numbers of the fibonacci sequence.\n",
        "\n",
        "Let's see what might be the probleme with this implementation.\n",
        "\n",
        "What if we did put n=1000 or n=10000 or n=100000 etc"
      ]
    },
    {
      "cell_type": "code",
      "metadata": {
        "id": "FyN2fIXT_BwJ"
      },
      "source": [
        "for fib_number in fib_sequence(36):\n",
        "    print(fib_number)"
      ],
      "execution_count": null,
      "outputs": []
    },
    {
      "cell_type": "markdown",
      "metadata": {
        "id": "DYF2w96O_HuA"
      },
      "source": [
        "We can clearly see how long this takes for just `n=36` as input !\n",
        "\n",
        "We also notice that it only prints the whole thing only when it finishes computing the whole thing.\n",
        "\n",
        "What if we wanted to get at least the first results and use them, while it is computing the rest or next values of the results so that we don't have to wait for all the data to be generated?\n",
        "\n",
        "This is where `generators` comes in.\n"
      ]
    },
    {
      "cell_type": "markdown",
      "metadata": {
        "id": "0Ixt-L5nQAH4"
      },
      "source": [
        "## What are `generators`?"
      ]
    },
    {
      "cell_type": "markdown",
      "metadata": {
        "id": "xImTsF6PSiSE"
      },
      "source": [
        "### Definition and usage.\n",
        "\n",
        "A generator in python is a function that produces a sequence of results, one at a time.\n",
        "\n",
        "To use a generator in our example we would have to rewrite the `fib_sequence` function like this:\n"
      ]
    },
    {
      "cell_type": "code",
      "metadata": {
        "id": "FVoc4WPa_Mbr"
      },
      "source": [
        "def fib_generator(n):\n",
        "    # seq = []\n",
        "    for i in range(n):\n",
        "        # seq.append(fib(i))\n",
        "        yield fib(i)\n",
        "    # return seq"
      ],
      "execution_count": null,
      "outputs": []
    },
    {
      "cell_type": "markdown",
      "metadata": {
        "id": "vl4mza0d_RKj"
      },
      "source": [
        "Here we have just replaced the `return` keyword with `yield` keyword, also without using a temporary `seq` variable.\n",
        "\n",
        "Now let's see how this function can be used."
      ]
    },
    {
      "cell_type": "code",
      "metadata": {
        "id": "a11eNMFV_UZW"
      },
      "source": [
        "fib_generated_sequence = fib_generator(6)"
      ],
      "execution_count": null,
      "outputs": []
    },
    {
      "cell_type": "code",
      "metadata": {
        "id": "NQQeNOvt_WNg"
      },
      "source": [
        "next(fib_generated_sequence)"
      ],
      "execution_count": null,
      "outputs": []
    },
    {
      "cell_type": "code",
      "metadata": {
        "id": "T56W9ddF_Ynl"
      },
      "source": [
        "next(fib_generated_sequence)"
      ],
      "execution_count": null,
      "outputs": []
    },
    {
      "cell_type": "code",
      "metadata": {
        "id": "RT1TIo9J_aKp"
      },
      "source": [
        "next(fib_generated_sequence)"
      ],
      "execution_count": null,
      "outputs": []
    },
    {
      "cell_type": "code",
      "metadata": {
        "id": "1eCO_Sp1_bvI"
      },
      "source": [
        "next(fib_generated_sequence)"
      ],
      "execution_count": null,
      "outputs": []
    },
    {
      "cell_type": "code",
      "metadata": {
        "id": "Yy1iIl66_fBM"
      },
      "source": [
        "next(fib_generated_sequence)"
      ],
      "execution_count": null,
      "outputs": []
    },
    {
      "cell_type": "code",
      "metadata": {
        "id": "GOtFcbU8_g1F"
      },
      "source": [
        "next(fib_generated_sequence)"
      ],
      "execution_count": null,
      "outputs": []
    },
    {
      "cell_type": "markdown",
      "metadata": {
        "id": "ROAoFacA_jaa"
      },
      "source": [
        "Here we can see how each element of the sequence is being generated one at a time, using the built-in function `next()`\n",
        "\n",
        "We say that the generator is being *_consumed_*.\n",
        "\n",
        "Notice what happens when the generator gets fully consumed:"
      ]
    },
    {
      "cell_type": "code",
      "metadata": {
        "id": "TpmO6V8T_k9P"
      },
      "source": [
        "next(fib_generated_sequence)\n"
      ],
      "execution_count": null,
      "outputs": []
    },
    {
      "cell_type": "markdown",
      "metadata": {
        "id": "vHHdM0F8_p2C"
      },
      "source": [
        "Since we specified that we wanted to generate only the 6 elements of the sequence, it raises a `StopIteration` Exception when it finishes the computation. And that's very normal."
      ]
    },
    {
      "cell_type": "markdown",
      "metadata": {
        "id": "YZ4HxWG2SEKL"
      },
      "source": [
        "### Consuming a generator with a `list`\n",
        "\n",
        "There is, as you can probably guess, another way of consuming the whole generator:"
      ]
    },
    {
      "cell_type": "code",
      "metadata": {
        "id": "feHvl3bQ_pad"
      },
      "source": [
        "# Here we rebuild the generator:\n",
        "fib_generated_sequence = fib_generator(6)"
      ],
      "execution_count": null,
      "outputs": []
    },
    {
      "cell_type": "code",
      "metadata": {
        "id": "3JPg9Wr8_tX8"
      },
      "source": [
        "# Here we consume all the generator\n",
        "list(fib_generated_sequence)"
      ],
      "execution_count": null,
      "outputs": []
    },
    {
      "cell_type": "markdown",
      "metadata": {
        "id": "Eg0tqg3-_wJ1"
      },
      "source": [
        "This returns all the elements of the generator.\n",
        "\n",
        "So the other way of consuming all data in the generator is by calling `list` on it so to get all its elements into a list.\n",
        "\n",
        "Notice again what happens when we try to continue consuming that generator:"
      ]
    },
    {
      "cell_type": "code",
      "metadata": {
        "id": "PuFILsYn_y4M"
      },
      "source": [
        "# Using next function\n",
        "next(fib_generated_sequence)"
      ],
      "execution_count": null,
      "outputs": []
    },
    {
      "cell_type": "markdown",
      "metadata": {
        "id": "60QpdXaI_2Uq"
      },
      "source": [
        "This exception again means the generator has been fully consumed.\n"
      ]
    },
    {
      "cell_type": "code",
      "metadata": {
        "id": "5UfxCbvf_5o3"
      },
      "source": [
        "# Or using list\n",
        "list(fib_generated_sequence)"
      ],
      "execution_count": null,
      "outputs": []
    },
    {
      "cell_type": "markdown",
      "metadata": {
        "id": "BGhLQ08l_8-z"
      },
      "source": [
        "Here it shows an empy list meaning that the generator has fully been consumed.\n",
        "\n",
        "So be careful when you consume a generator that has already been consumed!\n",
        "\n",
        "You'd have to rebuild the generator anytime you want to consume its values.\n",
        "\n",
        "Now the nice thing about generators it that they also can be consumed using a `for loop`:\n"
      ]
    },
    {
      "cell_type": "markdown",
      "metadata": {
        "id": "5MplZsBcR7qu"
      },
      "source": [
        "### Consume a generator with a `for-loop`"
      ]
    },
    {
      "cell_type": "code",
      "metadata": {
        "id": "S0eGskCnAEUe"
      },
      "source": [
        "# Rebuild the generator\n",
        "fib_generated_sequence = fib_generator(6)"
      ],
      "execution_count": null,
      "outputs": []
    },
    {
      "cell_type": "code",
      "metadata": {
        "id": "rZWrqNsHAFbS"
      },
      "source": [
        "for fib_number in fib_generated_sequence:\n",
        "    print(fib_number)"
      ],
      "execution_count": null,
      "outputs": []
    },
    {
      "cell_type": "markdown",
      "metadata": {
        "id": "PaIHdOhnAKpi"
      },
      "source": [
        "The generator has again been fully consumed:"
      ]
    },
    {
      "cell_type": "code",
      "metadata": {
        "id": "3MNMZY8AAMlL"
      },
      "source": [
        "next(fib_generated_sequence)\n"
      ],
      "execution_count": null,
      "outputs": []
    },
    {
      "cell_type": "markdown",
      "metadata": {
        "id": "moCjif-iSzJt"
      },
      "source": [
        "### The advantage of a generator"
      ]
    },
    {
      "cell_type": "markdown",
      "metadata": {
        "id": "2ajeNKs4AYUM"
      },
      "source": [
        "Let's see now what would be the adavantage of using a generator.\n",
        "\n",
        "Remember our initial problem was that it took too much time to retrieve the first 36 elements of the sequence before printing it at once.\n",
        "\n",
        "Now what would happend in the case of generators?"
      ]
    },
    {
      "cell_type": "code",
      "metadata": {
        "id": "_TBd7egFAZHF"
      },
      "source": [
        "# Let's rebuild the generator that generates the 36 elements\n",
        "fib_generated_sequence = fib_generator(36)"
      ],
      "execution_count": null,
      "outputs": []
    },
    {
      "cell_type": "markdown",
      "metadata": {
        "id": "LPkZE5pFAff3"
      },
      "source": [
        "There we have our generator ready to be consumed, element by element, without waiting for the whole sequence of 36 elements to be retrived.\n",
        "\n",
        "Here we can just retrieve the first element if we wish, or the second too, and the third:\n"
      ]
    },
    {
      "cell_type": "code",
      "metadata": {
        "id": "dJqzdghhAiUR"
      },
      "source": [
        "next(fib_generated_sequence)"
      ],
      "execution_count": null,
      "outputs": []
    },
    {
      "cell_type": "code",
      "metadata": {
        "id": "CdiB3j_8Ai8U"
      },
      "source": [
        "next(fib_generated_sequence)"
      ],
      "execution_count": null,
      "outputs": []
    },
    {
      "cell_type": "code",
      "metadata": {
        "id": "49fj9T1mAkTs"
      },
      "source": [
        "next(fib_generated_sequence)"
      ],
      "execution_count": null,
      "outputs": []
    },
    {
      "cell_type": "code",
      "metadata": {
        "id": "OthB39DHAmNK"
      },
      "source": [
        "next(fib_generated_sequence)"
      ],
      "execution_count": null,
      "outputs": []
    },
    {
      "cell_type": "markdown",
      "metadata": {
        "id": "r0IvQlUOAukt"
      },
      "source": [
        "We are consuming our sequence of 36 elements one by one!\n",
        "\n",
        "We can also try to get the `next` 10 elements from this point in time in the state of the generator.\n"
      ]
    },
    {
      "cell_type": "code",
      "metadata": {
        "id": "yZH-N0awAo40"
      },
      "source": [
        "for i in range(10):\n",
        "    print(next(fib_generated_sequence))"
      ],
      "execution_count": null,
      "outputs": []
    },
    {
      "cell_type": "markdown",
      "metadata": {
        "id": "bbYTu8aiA04w"
      },
      "source": [
        "Or we can just consume the full generator from now on using `list`\n"
      ]
    },
    {
      "cell_type": "code",
      "metadata": {
        "id": "iB2bre4oAxhe"
      },
      "source": [
        "print(list(fib_generated_sequence))"
      ],
      "execution_count": null,
      "outputs": []
    },
    {
      "cell_type": "markdown",
      "metadata": {
        "id": "LEMOW6bQA4s4"
      },
      "source": [
        "But now let's see why we no longer have to wait until the end of computation to print each and every element of the fibonacci sequence.\n"
      ]
    },
    {
      "cell_type": "code",
      "metadata": {
        "id": "yoaWJyeYA7KR"
      },
      "source": [
        "# Let's rebuild the generator that generates the 36 elements\n",
        "fib_generated_sequence = fib_generator(36)"
      ],
      "execution_count": null,
      "outputs": []
    },
    {
      "cell_type": "code",
      "metadata": {
        "id": "ouIJDAMEA-bt"
      },
      "source": [
        "for fib_number in fib_generated_sequence:\n",
        "    if fib_number <= 500000: # let's show only the last elements so we can visualize their generation\n",
        "        continue # let's show only the last elements so we can visualize their generation\n",
        "    print(fib_number)"
      ],
      "execution_count": null,
      "outputs": []
    },
    {
      "cell_type": "markdown",
      "metadata": {
        "id": "GKK9c1bSBC2X"
      },
      "source": [
        "Nice.\n",
        "\n",
        "We can see the great flexibility that the generator offers in order to handle huge amounts of computation.\n",
        "\n",
        "This just means a generator allows us to use the generated data before it even finishes to compute the next elements of the data.\n",
        "\n",
        "This is the idea we're going to use when training a machine learning model for example on huge amount of data that take lot of time to do preprocessing computation and also takes up too much memory.\n",
        "\n",
        "We are going to train our neural network with the already generated (and preprocessed, eventually) part of the data without waiting for that whole preprocessing to finish.\n",
        "This is also going to allow us to load just enough data into RAM (one batch) at a time while working with it and wait for the next generated batch of data.\n"
      ]
    },
    {
      "cell_type": "markdown",
      "metadata": {
        "id": "kkRSDttSBGaP"
      },
      "source": [
        "# Application: Training a Deep Learning Model using a Generator?\n"
      ]
    },
    {
      "cell_type": "markdown",
      "metadata": {
        "id": "z5ighnKlUnFM"
      },
      "source": [
        "## Train a simple model"
      ]
    },
    {
      "cell_type": "markdown",
      "metadata": {
        "id": "3ffQYGupUWBw"
      },
      "source": [
        "Let's build a simple neural network with keras"
      ]
    },
    {
      "cell_type": "code",
      "metadata": {
        "id": "rH1LPuwcBKMm"
      },
      "source": [
        "# Build a simple model\n",
        "model = tf.keras.Sequential()\n",
        "model.add(tf.keras.layers.Input(shape=(5,)))\n",
        "model.add(tf.keras.layers.Dense(32))\n",
        "model.add(tf.keras.layers.Dense(1))\n",
        " \n",
        "model.compile(optimizer=tf.keras.optimizers.Adam(), loss=tf.keras.losses.BinaryCrossentropy(), metrics=tf.keras.metrics.Accuracy())\n",
        " \n",
        "model.summary()"
      ],
      "execution_count": null,
      "outputs": []
    },
    {
      "cell_type": "markdown",
      "metadata": {
        "id": "ebMLjeE9BcuN"
      },
      "source": [
        "Traditionally, to train such a model we create data like this\n"
      ]
    },
    {
      "cell_type": "code",
      "metadata": {
        "id": "Y7yZnQSJB5T9"
      },
      "source": [
        "def get_batch(batch_size=30, features=5):\n",
        "    X = np.random.rand(batch_size, features)\n",
        "    # print('X shape:', dataX.shape)\n",
        "    Y = (np.random.rand(batch_size, 1) > .5).astype('int32')\n",
        "    # print('Y shape:', dataY.shape)\n",
        "    return X, Y"
      ],
      "execution_count": null,
      "outputs": []
    },
    {
      "cell_type": "code",
      "metadata": {
        "id": "rTnpQQPkBdme"
      },
      "source": [
        "# Here we use a function to generate our data\n",
        "def get_data(size, batch=30, features=5):\n",
        "    dataX = []\n",
        "    dataY = []\n",
        "    i = 0\n",
        "    while i < size//batch:\n",
        "        dataX.extend(get_batch(batch, features)[0])\n",
        "        dataY.extend(get_batch(batch, features)[1])\n",
        "        # We already see how we are tediously concatenating each batch of data to make the full data: this takes time!\n",
        "        i+=1\n",
        "    return np.array(dataX), np.array(dataY)"
      ],
      "execution_count": null,
      "outputs": []
    },
    {
      "cell_type": "markdown",
      "metadata": {
        "id": "o6hd8EhSBhg_"
      },
      "source": [
        "Then train the model\n"
      ]
    },
    {
      "cell_type": "code",
      "metadata": {
        "id": "84VwlWUIBiQy"
      },
      "source": [
        "X, Y = get_data(size=30000)\n",
        "model.fit(X, Y, epochs=5)"
      ],
      "execution_count": null,
      "outputs": []
    },
    {
      "cell_type": "markdown",
      "metadata": {
        "id": "E8Hc_ciFVD6T"
      },
      "source": [
        "## Train on a generator"
      ]
    },
    {
      "cell_type": "markdown",
      "metadata": {
        "id": "_ScB4DQ_B6Tb"
      },
      "source": [
        "Now here we replace this function using a generator instead, that is going to generate one `batch_size` amount of data at a time\n"
      ]
    },
    {
      "cell_type": "markdown",
      "metadata": {
        "id": "DeCiYERbFIpU"
      },
      "source": [
        "Now the idea is to generate one batch of data at a time using this function then give it to the model to train, before generating the next batch and do the training on that batch, and so on.\n",
        "\n",
        "The advantage now is that we don't need to wait for the entire batches of the entire data to be generated before starting to train our model. And this is what helps us avoid the RAM to be overloaded with all the data at once.\n",
        "\n",
        "Let's take a look:"
      ]
    },
    {
      "cell_type": "code",
      "metadata": {
        "id": "Stqeh-zOFHjX"
      },
      "source": [
        "def get_data_generator(size, batch=30, features=5):\n",
        "    # size: the size of all the data\n",
        "    # batch_size: the size of one batch of data\n",
        "    i = 0\n",
        "    while i <= size:\n",
        "        yield get_batch(batch, features)\n",
        "        # In this previous statement we see that we have now \n",
        "        # replaced the concatenation step by using a `yield` keyword\n",
        "        # which is going to make it a generator\n",
        "        i += 1"
      ],
      "execution_count": null,
      "outputs": []
    },
    {
      "cell_type": "markdown",
      "metadata": {
        "id": "WaZMvKjMGnb2"
      },
      "source": [
        "Let's test this data generator first."
      ]
    },
    {
      "cell_type": "code",
      "metadata": {
        "id": "DOdQzdkVGrNK"
      },
      "source": [
        "for batch in get_data_generator(3000):\n",
        "    print(batch)"
      ],
      "execution_count": null,
      "outputs": []
    },
    {
      "cell_type": "markdown",
      "metadata": {
        "id": "3tQhOwkqG-Of"
      },
      "source": [
        "In the previous output we can already feel how this data is being generated one batch at a time; and this is what we needed.\n",
        "\n",
        "Now we can apply this and send it to our model to train incrementally."
      ]
    },
    {
      "cell_type": "code",
      "metadata": {
        "id": "7wvu4E_c9g4s"
      },
      "source": [
        "data_generator = get_data_generator(size=30000)\n",
        "model.fit(data_generator, epochs=5, steps_per_epoch=3000//5)"
      ],
      "execution_count": null,
      "outputs": []
    },
    {
      "cell_type": "markdown",
      "metadata": {
        "id": "8oUxk56BCaOV"
      },
      "source": [
        "## Comparisons: the old way vs the new one.."
      ]
    },
    {
      "cell_type": "markdown",
      "metadata": {
        "id": "SO16-ZXTCs2w"
      },
      "source": [
        "What are the advantages of using a python generator versus the old method.\n",
        "\n",
        "This becomes clear when we are dealing with huge amounts of data.\n",
        "\n",
        "In our previous case we had only a set of 30 to 30000 data points in our dataset, so that the differences aren't that noticeable.\n",
        "\n",
        "Here we are going to build a huge enough dataset to demonstrate the comparisons."
      ]
    },
    {
      "cell_type": "code",
      "metadata": {
        "id": "D2Fifrl-Cgb7"
      },
      "source": [
        "# Here we reuse our get_data function\n",
        "X, Y = get_data(3000000) # here we have up to 3 millions data points\n",
        "model.fit(X, Y, epochs=2, batch_size=300)"
      ],
      "execution_count": null,
      "outputs": []
    },
    {
      "cell_type": "markdown",
      "metadata": {
        "id": "wCvLYYMFOScq"
      },
      "source": [
        "In the previous code execution we can feel how long it took to create the full data first before starting to train. \n",
        "\n",
        "We know remedy this by using the generator instead."
      ]
    },
    {
      "cell_type": "code",
      "metadata": {
        "id": "hyVvNhnYNWe_"
      },
      "source": [
        "# Here we reuse our get_data_generator\n",
        "data_generator = get_data_generator(3000000, batch=3000) # here we have up to 3 millions data points\n",
        "model.fit(data_generator, epochs=2, steps_per_epoch=3000000//5)"
      ],
      "execution_count": null,
      "outputs": []
    },
    {
      "cell_type": "markdown",
      "metadata": {
        "id": "A2eE71-ePdpG"
      },
      "source": [
        "In this previous code execution we see that it started training at the moment we executed our code, because the `get_data_generator` function had already finished generating the first batch of `batch` datapoints that is enough to start training the model."
      ]
    },
    {
      "cell_type": "markdown",
      "metadata": {
        "id": "NA_bjDuqWRXA"
      },
      "source": [
        "**CONCLUSION**:"
      ]
    },
    {
      "cell_type": "markdown",
      "metadata": {
        "id": "ufpp7cKwWVfr"
      },
      "source": [
        "Next time you are dealing with huge amouts of data in your machine learning projects, try to take advantage of the generator functionality: this will save you lot time and space!"
      ]
    },
    {
      "cell_type": "markdown",
      "metadata": {
        "id": "gtq4OI5dYezc"
      },
      "source": [
        "Using generators becomes very usefull when specifically the data comes from an outside source like a database, an IoT system or the Web..\n",
        "We can also generators to do `online learning` in reinforcement learning. And so many other examples."
      ]
    }
  ]
}